{
 "cells": [
  {
   "cell_type": "markdown",
   "id": "c68f8dfc",
   "metadata": {},
   "source": [
    "Prandtl Elliptical Lift-distribution through Twist Calculator --PEL-TC-- is a tool which can be used in parallel with XFLR5 to creat a wing which approximates an elliptical lift distribution through twisting cross-sections"
   ]
  },
  {
   "cell_type": "code",
   "execution_count": 18,
   "id": "5851475d",
   "metadata": {},
   "outputs": [
    {
     "name": "stdout",
     "output_type": "stream",
     "text": [
      "Reynolds #:  365753.4246575342\n"
     ]
    }
   ],
   "source": [
    "import numpy as np\n",
    "import pandas as pd\n",
    "import matplotlib.pyplot as plt\n",
    "\n",
    "#Wing Definitions\n",
    "chord = 0.267\n",
    "span = 1.5\n",
    "velocity = 20\n",
    "kinVisc = 1.460E-5\n",
    "\n",
    "#Reynolds approximation\n",
    "Re = velocity*chord/kinVisc\n",
    "print(\"Reynolds #: \",Re)"
   ]
  },
  {
   "cell_type": "markdown",
   "id": "ca75e0f6",
   "metadata": {},
   "source": [
    "The txt file analysed is the output file of an XFLR direct foil analysis run at the specified reynolds number for the previous cell, with the headings removed. In the results, there should not be any CL value for which there are more than one alpha values. In other words, the range of the analysis should not be up to any further point than the stall point.\n",
    "\n",
    "From direct foil analysis, there may be some strange Cl behavior around 0 degrees angle of attack, so an offset for the minimum Cl can be used to avoid the alpha going through 0 degrees. "
   ]
  },
  {
   "cell_type": "code",
   "execution_count": 19,
   "id": "93947222",
   "metadata": {
    "scrolled": true
   },
   "outputs": [
    {
     "data": {
      "text/plain": [
       "[<matplotlib.lines.Line2D at 0x1ae75e58400>]"
      ]
     },
     "execution_count": 19,
     "metadata": {},
     "output_type": "execute_result"
    },
    {
     "data": {
      "image/png": "[encoded data removed]",
      "text/plain": [
       "<Figure size 432x288 with 1 Axes>"
      ]
     },
     "metadata": {
      "needs_background": "light"
     },
     "output_type": "display_data"
    }
   ],
   "source": [
    "cols = ['alpha','CL','CD','CDp','Cm','Top Xtr','Bot Xtr','Cpmin','Chinge','XCp']\n",
    "foilData = pd.read_fwf('T1_Re0.366_M0.06_N9.0_edited.txt',header=None,widths=[10,9,10,10,8,7,10,9,9,9],\n",
    "                       names=cols) #Saves XFLR direct foil analysis output to pd dataframe    \n",
    "\n",
    "CLmax = 1.2 #Max CL for elipse\n",
    "CLoffset = 0.4 #Minimum CL value at wing tip, which can be played around with to counteract effect of induced drag\n",
    "ElipseStart = 40 #%span where the wing starts to follow eliptical distribution\n",
    "StepSize = 0.025 #distance between each cross-section, mainly limited by wingtip due to elipse gradient --> infinity\n",
    "\n",
    "CLelipse = []\n",
    "AlphaElipse = []\n",
    "x = []\n",
    "\n",
    "Steps = span/StepSize\n",
    "spanStart = (ElipseStart/100)*span\n",
    "\n",
    "#Eliptical CL distribution\n",
    "for i in range(int(Steps)+1):\n",
    "    x.append(StepSize*i)\n",
    "    if (StepSize*i) > spanStart:\n",
    "        CLy = ((CLmax-CLoffset)/CLmax)*(CLmax*(1-((i*StepSize-spanStart)**2/((span-spanStart)**2)))**(1/2)) + CLoffset\n",
    "        CLelipse.append(CLy)\n",
    "    else:\n",
    "        CLelipse.append(CLmax)\n",
    "#print(CLelipse)\n",
    "plt.plot(x,CLelipse)\n",
    "\n",
    "#Coresponding Alpha\n",
    "for i in range(int(Steps)+1):\n",
    "    #print(StepSize*i)\n",
    "    CLTemp = CLelipse[i]\n",
    "    dCL = CLTemp\n",
    "    count = 0\n",
    "    for CL in foilData['CL']:\n",
    "        dCLtemp = abs(CLTemp - CL)\n",
    "        if dCLtemp < dCL:\n",
    "            dCL = dCLtemp\n",
    "            countStore = count\n",
    "        count += 1\n",
    "    AlphaElipse.append(foilData['alpha'][countStore])\n",
    "\n",
    "        \n",
    "    \n",
    "#print(AlphaElipse)\n",
    "plt.plot(x,AlphaElipse)\n",
    "                   \n",
    "                   \n",
    "    \n",
    "\n"
   ]
  },
  {
   "cell_type": "code",
   "execution_count": null,
   "id": "67012e07",
   "metadata": {},
   "outputs": [],
   "source": []
  },
  {
   "attachments": {
    "image-2.png": {
     "image/png": "[encoded data removed]"
    },
    "image.png": {
     "image/png": "[encoded data removed]"
    }
   },
   "cell_type": "markdown",
   "id": "c317cf33",
   "metadata": {},
   "source": [
    "![image-2.png](attachment:image-2.png)\n",
    "![image.png](attachment:image.png)\n",
    "\n",
    "The first image is an example of the saved wing data as .xwimp file, the table below it shows what piece of data each colunm represents."
   ]
  },
  {
   "cell_type": "code",
   "execution_count": 20,
   "id": "c7774d04",
   "metadata": {},
   "outputs": [],
   "source": [
    "wing = open(\"MainWingEllipse.xwimp\", \"w\")\n",
    "wing.write(\"Main Wing\"+'\\n')\n",
    "\n",
    "\n",
    "xpanels = 30\n",
    "ypanels = 1\n",
    "foil = 'NACA/_/4412'\n",
    "for i in range(int(Steps)+1):\n",
    "#if AlphaElipse[i] != AlphaElipse[i+1] or i == 0:\n",
    "    ypos = StepSize*(i)\n",
    "    twist = AlphaElipse[i]\n",
    "    line = str(ypos)+\" \"+str(chord)+\" \"+str(0)+\" \"+str(0)+\" \"+str(twist)+\" \"\\\n",
    "        +str(xpanels)+\" \"+str(ypanels)+\" \"+str(1)+\" \"+str(0)+\" \"+foil+\" \"+foil+'\\n'\n",
    "    wing.write(line)\n",
    "    #print(line)\n",
    "wing.close()  \n",
    "    \n",
    "    \n"
   ]
  },
  {
   "cell_type": "code",
   "execution_count": null,
   "id": "6a53dc9d",
   "metadata": {},
   "outputs": [],
   "source": []
  }
 ],
 "metadata": {
  "kernelspec": {
   "display_name": "Python 3",
   "language": "python",
   "name": "python3"
  },
  "language_info": {
   "codemirror_mode": {
    "name": "ipython",
    "version": 3
   },
   "file_extension": ".py",
   "mimetype": "text/x-python",
   "name": "python",
   "nbconvert_exporter": "python",
   "pygments_lexer": "ipython3",
   "version": "3.8.8"
  }
 },
 "nbformat": 4,
 "nbformat_minor": 5
}
