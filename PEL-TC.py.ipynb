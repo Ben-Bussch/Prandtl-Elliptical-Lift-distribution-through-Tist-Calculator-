{
 "cells": [
  {
   "cell_type": "markdown",
   "id": "8d074e2d",
   "metadata": {},
   "source": [
    "Prandtl Elliptical Lift-distribution through Twist Calculator --PEL-TC-- is a tool which can be used in parallel with XFLR5 to creat a wing which approximates an elliptical lift distribution through twisting cross-sections"
   ]
  },
  {
   "cell_type": "code",
   "execution_count": 8,
   "id": "7cef3c73",
   "metadata": {},
   "outputs": [
    {
     "name": "stdout",
     "output_type": "stream",
     "text": [
      "Reynolds #:  365753.4246575342\n"
     ]
    }
   ],
   "source": [
    "import numpy as np\n",
    "import pandas as pd\n",
    "import matplotlib.pyplot as plt\n",
    "\n",
    "#Wing Definitions\n",
    "chord = 0.267\n",
    "span = 1.5\n",
    "velocity = 20\n",
    "kinVisc = 1.460E-5\n",
    "\n",
    "#Reynolds approximation\n",
    "Re = velocity*chord/kinVisc\n",
    "print(\"Reynolds #: \",Re)"
   ]
  },
  {
   "cell_type": "markdown",
   "id": "e1e130aa",
   "metadata": {},
   "source": [
    "The txt file analysed is the output file of an XFLR direct foil analysis run at the specified reynolds number for the previous cell, with the headings removed. In the results, there should not be any CL value for which there are more than one alpha values. In other words, the range of the analysis should not be up to any further point than the stall point."
   ]
  },
  {
   "cell_type": "code",
   "execution_count": 9,
   "id": "70c590cb",
   "metadata": {
    "scrolled": true
   },
   "outputs": [
    {
     "data": {
      "text/plain": [
       "[<matplotlib.lines.Line2D at 0x1bb65b55bb0>]"
      ]
     },
     "execution_count": 9,
     "metadata": {},
     "output_type": "execute_result"
    },
    {
     "data": {
      "image/png": "[encoded data removed]",
      "text/plain": [
       "<Figure size 432x288 with 1 Axes>"
      ]
     },
     "metadata": {
      "needs_background": "light"
     },
     "output_type": "display_data"
    }
   ],
   "source": [
    "cols = ['alpha','CL','CD','CDp','Cm','Top Xtr','Bot Xtr','Cpmin','Chinge','XCp']\n",
    "foilData = pd.read_fwf('T1_Re0.366_M0.06_N9.0_edited.txt',header=None,widths=[10,9,10,10,8,7,10,9,9,9],\n",
    "                       names=cols) #Saves XFLR direct foil analysis output to pd dataframe    \n",
    "\n",
    "CLmax = 1 #Max CL for elipse\n",
    "CLoffset = 0.05 #Minimum CL value at wing tip, which can be played around with to counteract effect of induced drag\n",
    "CLelipse = []\n",
    "AlphaElipse = []\n",
    "x = []\n",
    "StepSize = 0.05 #distance between each cross-section, mainly limited by wingtip due to elipse gradient --> infinity\n",
    "Steps = span/StepSize\n",
    "\n",
    "#Eliptical CL distribution\n",
    "for i in range(int(Steps)+1):\n",
    "    x.append(StepSize*i)\n",
    "    CLy = CLmax*(1-((i*StepSize)**2/(span**2)))**(1/2) + CLoffset\n",
    "    CLelipse.append(CLy)\n",
    "#print(CLelipse)\n",
    "plt.plot(x,CLelipse)\n",
    "\n",
    "#Coresponding Alpha\n",
    "for i in range(int(Steps)+1):\n",
    "    CLTemp = CLelipse[i]\n",
    "    dCL = CLTemp\n",
    "    count = 0\n",
    "    for CL in foilData['CL']:\n",
    "        dCLtemp = abs(CLTemp - CL)\n",
    "        if dCLtemp < dCL:\n",
    "            dCL = dCLtemp\n",
    "            countStore = count\n",
    "        count += 1\n",
    "    AlphaElipse.append(foilData['alpha'][countStore])\n",
    "\n",
    "plt.plot(x,AlphaElipse)\n",
    "                   \n",
    "                   \n",
    "    \n",
    "\n"
   ]
  },
  {
   "attachments": {
    "image-2.png": {
     "image/png": "[encoded data removed]"
    },
    "image.png": {
     "image/png": "[encoded data removed]"
    }
   },
   "cell_type": "markdown",
   "id": "46a69775",
   "metadata": {},
   "source": [
    "![image-2.png](attachment:image-2.png)\n",
    "![image.png](attachment:image.png)\n",
    "\n",
    "The first image is an example of saved wing data as .xwimp file, the table below it shows what piece of data each colunm represents. The xwimp file can then be loaded into XFLR through wing design --> import wing (depreciated, use XML)"
   ]
  },
  {
   "cell_type": "code",
   "execution_count": 10,
   "id": "5e5f5ffe",
   "metadata": {},
   "outputs": [],
   "source": [
    "wing = open(\"MainWingElipse.xwimp\", \"w\")\n",
    "wing.write(\"Main Wing\"+'\\n')\n",
    "\n",
    "\n",
    "xpanels = 20\n",
    "ypanels = 2\n",
    "foil = 'NACA/_/4412'\n",
    "for i in range(int(Steps)+1):\n",
    "    ypos = StepSize*i\n",
    "    twist = AlphaElipse[i]\n",
    "    line = str(ypos)+\" \"+str(chord)+\" \"+str(0)+\" \"+str(0)+\" \"+str(AlphaElipse[i])+\" \"\\\n",
    "        +str(xpanels)+\" \"+str(ypanels)+\" \"+str(1)+\" \"+str(0)+\" \"+foil+\" \"+foil+'\\n'\n",
    "    wing.write(line)\n",
    "    #print(line)\n",
    "wing.close()  \n",
    "    \n",
    "    \n"
   ]
  },
  {
   "cell_type": "code",
   "execution_count": null,
   "id": "7bea19df",
   "metadata": {},
   "outputs": [],
   "source": []
  }
 ],
 "metadata": {
  "kernelspec": {
   "display_name": "Python 3",
   "language": "python",
   "name": "python3"
  },
  "language_info": {
   "codemirror_mode": {
    "name": "ipython",
    "version": 3
   },
   "file_extension": ".py",
   "mimetype": "text/x-python",
   "name": "python",
   "nbconvert_exporter": "python",
   "pygments_lexer": "ipython3",
   "version": "3.8.8"
  }
 },
 "nbformat": 4,
 "nbformat_minor": 5
}
